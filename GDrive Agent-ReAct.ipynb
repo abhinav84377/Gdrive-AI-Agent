{
 "cells": [
  {
   "cell_type": "code",
   "execution_count": 3,
   "id": "141fe5c5-82a9-4296-8eb7-b850698b50dd",
   "metadata": {},
   "outputs": [],
   "source": [
    "import os\n",
    "from google.auth.transport.requests import Request\n",
    "from google.oauth2.credentials import Credentials\n",
    "from google_auth_oauthlib.flow import InstalledAppFlow\n",
    "from googleapiclient.discovery import build\n",
    "from googleapiclient.errors import HttpError\n",
    "from googleapiclient.http import MediaIoBaseDownload\n",
    "import io\n",
    "\n",
    "\n",
    "import difflib\n",
    "from googleapiclient.errors import HttpError"
   ]
  },
  {
   "cell_type": "code",
   "execution_count": 4,
   "id": "0d3ac09c-2ef6-482b-b1fe-83be18878c97",
   "metadata": {},
   "outputs": [],
   "source": [
    "SCOPES = ['https://www.googleapis.com/auth/drive.readonly','https://www.googleapis.com/auth/gmail.readonly']"
   ]
  },
  {
   "cell_type": "markdown",
   "id": "db5ccea3-cd6d-4891-917a-2dc7bb23eae6",
   "metadata": {},
   "source": [
    "# Setting up Drive and Email Service\n",
    "\n",
    "1. Create Google Cloud Project\n",
    "2. Enable Google Drive API and Gmail API under 'APIs & Services'\n",
    "3. Create Credentials > OAuth CLient ID\n",
    "4. Choose Desktop/Web App\n",
    "5. Download Credentials.json\n",
    "6. Pass it in below function"
   ]
  },
  {
   "cell_type": "code",
   "execution_count": 6,
   "id": "0b99d1f3-3b48-4d15-8a55-e0b679cbe4b3",
   "metadata": {},
   "outputs": [],
   "source": [
    "import getpass\n",
    "import os\n",
    "\n",
    "if \"drive_secrets_path\" not in os.environ:\n",
    "    drive_secrets = getpass.getpass(\"drive_secrets_path: \")\n",
    "    os.environ[\"drive_secrets_path\"] = drive_secrets\n",
    "\n",
    "if \"gmail_secrets_path\" not in os.environ:\n",
    "    gmail_secrets = getpass.getpass(\"gmail_secrets_path: \")\n",
    "    os.environ[\"gmail_secrets_path\"] = gmail_secrets\n",
    "\n",
    "drive_token_path = r\"C:\\Users\\Abhinav\\GDrive-AI-Agent\\token.json\"\n",
    "gmail_token_path = r\"C:\\Users\\Abhinav\\GDrive-AI-Agent\\gmail_token.json\""
   ]
  },
  {
   "cell_type": "code",
   "execution_count": 7,
   "id": "3ba4b1e9-b85b-4b1b-ad36-885864044343",
   "metadata": {},
   "outputs": [],
   "source": [
    "def get_drive_service():\n",
    "    \"\"\"Shows basic usage of the Drive v3 API.\n",
    "    Prints the names and IDs of the first 10 files the user has access to.\n",
    "    \"\"\"\n",
    "    creds = None\n",
    "    # The file token.json stores the user's access and refresh tokens, and is\n",
    "    # created automatically when the authorization flow completes for the first\n",
    "    # time.\n",
    "    if os.path.exists(drive_token_path):\n",
    "        creds = Credentials.from_authorized_user_file(drive_token_path, SCOPES)\n",
    "    # If there are no (valid) credentials available, let the user log in.\n",
    "    if not creds or not creds.valid:\n",
    "        if creds and creds.expired and creds.refresh_token:\n",
    "            creds.refresh(Request())\n",
    "        else:\n",
    "            flow = InstalledAppFlow.from_client_secrets_file(\n",
    "                os.environ[\"drive_secrets_path\"], SCOPES)\n",
    "            creds = flow.run_local_server(port=0)\n",
    "        # Save the credentials for the next run\n",
    "        with open(drive_token_path, 'w') as token:\n",
    "            token.write(creds.to_json())\n",
    "\n",
    "    return build('drive', 'v3', credentials=creds)"
   ]
  },
  {
   "cell_type": "code",
   "execution_count": 8,
   "id": "1aa0016f-863f-428c-8cf5-c51cff68dc2d",
   "metadata": {},
   "outputs": [],
   "source": [
    "drive_service = get_drive_service()"
   ]
  },
  {
   "cell_type": "code",
   "execution_count": 9,
   "id": "8718b2d9-6703-41dc-83f5-64873a71362d",
   "metadata": {},
   "outputs": [],
   "source": [
    "def get_gmail_service():\n",
    "    creds = None\n",
    "    if os.path.exists(gmail_token_path):\n",
    "        creds = Credentials.from_authorized_user_file(gmail_token_path, SCOPES)\n",
    "    if not creds or not creds.valid:\n",
    "        if creds and creds.expired and creds.refresh_token:\n",
    "            creds.refresh(Request())\n",
    "        else:\n",
    "            flow = InstalledAppFlow.from_client_secrets_file(os.environ[\"gmail_secrets_path\"], SCOPES)\n",
    "            creds = flow.run_local_server(port=0)\n",
    "        with open(gmail_token_path, 'w') as token:\n",
    "            token.write(creds.to_json())\n",
    "\n",
    "    return build('gmail', 'v1', credentials=creds)"
   ]
  },
  {
   "cell_type": "code",
   "execution_count": 10,
   "id": "b44e7d24-8f8b-4cae-9ce8-743b0d422d1c",
   "metadata": {},
   "outputs": [],
   "source": [
    "gmail_service = get_gmail_service()"
   ]
  },
  {
   "cell_type": "markdown",
   "id": "97af3a45-f841-485b-a033-6087c2cc181c",
   "metadata": {},
   "source": [
    "# Try Search a file in Drive"
   ]
  },
  {
   "cell_type": "code",
   "execution_count": 64,
   "id": "862a53ee-ea33-4bc1-83a3-a14fd5d273aa",
   "metadata": {},
   "outputs": [],
   "source": [
    "def search_drive_file(service, file_name):\n",
    "    try:\n",
    "        results = service.files().list(\n",
    "            q=f\"name='{file_name}' and trashed=false\",\n",
    "            spaces='drive',\n",
    "            fields='files(id, name)').execute()\n",
    "        items = results.get('files', [])\n",
    "        if not items:\n",
    "            print(f\"No file found with name: {file_name}\")\n",
    "            return None\n",
    "        else:\n",
    "            print(f\"Found file: {items[0]['name']}\")            \n",
    "            return items[0]['id']\n",
    "    except HttpError as error:\n",
    "        print(f'An error occurred: {error}')\n",
    "        return None"
   ]
  },
  {
   "cell_type": "code",
   "execution_count": 65,
   "id": "74a37a1b-1124-4882-a0d7-1c444e139e3f",
   "metadata": {},
   "outputs": [],
   "source": [
    "import io\n",
    "import fitz  # PyMuPDF\n",
    "from googleapiclient.http import MediaIoBaseDownload\n",
    "from googleapiclient.errors import HttpError\n",
    "\n",
    "def download_drive_file_content(service, file_id, mime_type='application/pdf'):\n",
    "    try:\n",
    "        # Request file download\n",
    "        request = service.files().get_media(fileId=file_id)\n",
    "        fh = io.BytesIO()\n",
    "        downloader = MediaIoBaseDownload(fh, request)\n",
    "        done = False\n",
    "        while not done:\n",
    "            status, done = downloader.next_chunk()\n",
    "            print(f\"Download {int(status.progress() * 100)}%.\")\n",
    "\n",
    "        # Load PDF content\n",
    "        fh.seek(0)  # Reset file pointer\n",
    "        pdf_document = fitz.open(\"pdf\", fh.read())  # Open as PDF\n",
    "        content = \"\\n\".join([page.get_text(\"text\") for page in pdf_document])  # Extract text\n",
    "        \n",
    "        return content  # Return extracted text\n",
    "    except HttpError as error:\n",
    "        print(f\"An error occurred during download: {error}\")\n",
    "        return None\n",
    "    except Exception as e:\n",
    "        print(f\"An unexpected error occurred: {e}\")\n",
    "        return None"
   ]
  },
  {
   "cell_type": "code",
   "execution_count": 17,
   "id": "1aace21b-e539-47bf-9611-c5b610f2d049",
   "metadata": {},
   "outputs": [],
   "source": [
    "file_name_to_find = \"Abhinav Rohilla Resume.pdf\""
   ]
  },
  {
   "cell_type": "code",
   "execution_count": 18,
   "id": "8061facd-fdc4-4536-9caf-6aa64fd5e748",
   "metadata": {},
   "outputs": [
    {
     "name": "stdout",
     "output_type": "stream",
     "text": [
      "Found file: Abhinav Rohilla Resume.pdf\n",
      "Download 100%.\n"
     ]
    },
    {
     "data": {
      "text/plain": [
       "' \\nAbhinav Rohilla \\nData Scientist with 6 years of experience in leveraging machine learning, LLMs and \\nstatistics to drive impactful business solutions. Proven ability to understand client \\nrequiremen'"
      ]
     },
     "execution_count": 18,
     "metadata": {},
     "output_type": "execute_result"
    }
   ],
   "source": [
    "#Drive Service\n",
    "drive_service = get_drive_service()\n",
    "#Get File Id\n",
    "file_id = search_drive_file(drive_service, file_name_to_find)\n",
    "#get file and extract text\n",
    "file_content = download_drive_file_content(drive_service, file_id)\n",
    "file_content[:200]"
   ]
  },
  {
   "cell_type": "markdown",
   "id": "e4086b83-f302-49de-87df-f2c35a0960b2",
   "metadata": {},
   "source": [
    "# Creating Agent"
   ]
  },
  {
   "cell_type": "code",
   "execution_count": 19,
   "id": "5887378d-d386-4edb-9528-22c6032fe648",
   "metadata": {},
   "outputs": [],
   "source": [
    "# from langchain.agents.agent_toolkits import create_python_agent\n",
    "from langchain_experimental.agents.agent_toolkits import create_python_agent\n",
    "from langchain.agents import load_tools, initialize_agent\n",
    "from langchain.agents import AgentType\n",
    "from langchain_experimental.tools.python.tool import PythonREPLTool\n",
    "from langchain_experimental.utilities import PythonREPL\n",
    "# from langchain.tools.python.tool import PythonREPLTool\n",
    "# from langchain.python import PythonREPL\n",
    "from langchain.chat_models import ChatOpenAI"
   ]
  },
  {
   "cell_type": "code",
   "execution_count": 20,
   "id": "187703c9-a2de-43c7-94a2-e97f728ad1eb",
   "metadata": {},
   "outputs": [],
   "source": [
    "from langchain.agents import tool\n",
    "from datetime import date"
   ]
  },
  {
   "cell_type": "code",
   "execution_count": 21,
   "id": "481c258c-12f7-4448-b0e7-1000ce487a40",
   "metadata": {},
   "outputs": [],
   "source": [
    "import os\n",
    "import json\n",
    "from dotenv import load_dotenv\n",
    "from openai import OpenAI\n",
    "import gradio as gr\n",
    "\n",
    "import ollama\n",
    "from ollama import ChatResponse\n",
    "from IPython.display import display, Markdown, clear_output"
   ]
  },
  {
   "cell_type": "code",
   "execution_count": 22,
   "id": "74d1ceed-777c-4e52-ba5d-77c76a358445",
   "metadata": {},
   "outputs": [],
   "source": [
    "# system_message = \"You are an AI-powered document retrieval and summarization assistant.\"\n",
    "# system_message += \"Your primary function is to fetch PDFs from Google Drive, extract relevant text, and generate concise, informative summaries.\""
   ]
  },
  {
   "cell_type": "markdown",
   "id": "cd985c84-412c-440c-b7b6-f0265d410064",
   "metadata": {},
   "source": [
    "### Creating Agent with Langchain pre-built Tools\n",
    "1. LLM-Math\n",
    "2. Wikipedia"
   ]
  },
  {
   "cell_type": "code",
   "execution_count": 23,
   "id": "21941b69-f80c-4dda-b885-219b97828eab",
   "metadata": {},
   "outputs": [],
   "source": [
    "# from langchain_ollama.llms import OllamaLLM\n",
    "# llm = OllamaLLM(model=\"llama3.2\")\n"
   ]
  },
  {
   "cell_type": "code",
   "execution_count": 24,
   "id": "7675abb4-0e2d-4a19-903b-e27245cd706d",
   "metadata": {},
   "outputs": [
    {
     "name": "stdin",
     "output_type": "stream",
     "text": [
      "Enter your Gemini API key:  ········\n"
     ]
    }
   ],
   "source": [
    "import getpass\n",
    "import os\n",
    "\n",
    "if \"GOOGLE_API_KEY\" not in os.environ:\n",
    "    gemini_api_key = getpass.getpass(\"Enter your Gemini API key: \")\n",
    "    os.environ[\"GOOGLE_API_KEY\"] = gemini_api_key"
   ]
  },
  {
   "cell_type": "code",
   "execution_count": 25,
   "id": "f6b4157e-03f6-4560-bab4-672eaa8ae61a",
   "metadata": {},
   "outputs": [],
   "source": [
    "from langchain_google_genai import ChatGoogleGenerativeAI\n",
    "\n",
    "llm = ChatGoogleGenerativeAI(\n",
    "    model=\"gemini-2.0-flash\",  # or \"gemini-1.5-flash\"\n",
    "    # temperature=0.7,\n",
    "    # max_tokens=1024\n",
    ")"
   ]
  },
  {
   "cell_type": "code",
   "execution_count": 26,
   "id": "6ae7021a-9c1d-4f95-a23c-9500f858eff9",
   "metadata": {},
   "outputs": [],
   "source": [
    "tools = load_tools([\"llm-math\",\"wikipedia\"], llm=llm)"
   ]
  },
  {
   "cell_type": "code",
   "execution_count": 27,
   "id": "3e258b7a-71cd-4a4e-b044-9b942f4eb366",
   "metadata": {},
   "outputs": [
    {
     "name": "stderr",
     "output_type": "stream",
     "text": [
      "C:\\Users\\Abhinav\\anaconda3\\envs\\llms\\Lib\\site-packages\\langsmith\\client.py:272: LangSmithMissingAPIKeyWarning: API key must be provided when using hosted LangSmith API\n",
      "  warnings.warn(\n"
     ]
    }
   ],
   "source": [
    "from langchain.callbacks.manager import CallbackManager\n",
    "from langchain.callbacks import StdOutCallbackHandler\n",
    "from langchain.callbacks.tracers.langchain import LangChainTracer\n",
    "tracer = LangChainTracer()"
   ]
  },
  {
   "cell_type": "markdown",
   "id": "4d7cd589-d9ee-42c1-bd65-04758c4d28c4",
   "metadata": {},
   "source": [
    "### ReaAct Framework:\n",
    "Idea is to breakdown Agent's behaviour into 3 main components:\n",
    "1. **Thoughts** : Internal reasoning process of the agent\n",
    "2. **Actions**: Steps agents takes based on thoughts, Tool calling, External API calls, SQL DB calls, any arbitrary python function calls\n",
    "3. **Observations**: Feedback, agent recieves from Tool. Results from Tools, provide information to refine its thoughts and actions\n",
    "\n",
    "All components needs LLM calls, with different prompts.\n",
    "1. Thoughts: A prompt would be drafted like: Given user query, What do I need to check for more information on this?\n",
    "2. Action: LLM tools are configured with tools description which helps LLM to guide triggering tool if context matches with Tool Description\n",
    "3. Observation: Summarize the information recieved and did it answer user query?, if Yes trigger final answer prompt\n",
    "\n",
    "ReAct Flow:\n",
    "Query -> Agent Initialization -> Thought(LLM-Generated) -> Action(Tool) -> Tool Invocation -> Observation(Result fed back to LLM)\n",
    "-> New Thought -> Repeat Loop -> Final Answer \n",
    "\n"
   ]
  },
  {
   "cell_type": "code",
   "execution_count": 66,
   "id": "d96afe01-9293-46dc-b9a7-5037fd33b8dd",
   "metadata": {},
   "outputs": [],
   "source": [
    "#Initialize Agent\n",
    "agent= initialize_agent(\n",
    "    tools, \n",
    "    llm, \n",
    "    #ReACT, Reasoning and Act\n",
    "    agent=AgentType.CHAT_ZERO_SHOT_REACT_DESCRIPTION,\n",
    "    #If output of LLM is not parse correctly for other chain\n",
    "    #It sends back to origin LLM to rephrase\n",
    "    handle_parsing_errors=True,\n",
    "    #See in details whats happening in backend\n",
    "    verbose = True,\n",
    "# callback_manager=CallbackManager([StdOutCallbackHandler(), tracer])\n",
    ")"
   ]
  },
  {
   "cell_type": "code",
   "execution_count": 29,
   "id": "f7939013-2918-4e0f-80c1-81fe23a2b322",
   "metadata": {
    "scrolled": true
   },
   "outputs": [
    {
     "name": "stderr",
     "output_type": "stream",
     "text": [
      "C:\\Users\\Abhinav\\AppData\\Local\\Temp\\ipykernel_2532\\2502457097.py:1: LangChainDeprecationWarning: The method `Chain.__call__` was deprecated in langchain 0.1.0 and will be removed in 1.0. Use :meth:`~invoke` instead.\n",
      "  agent(\"Who is prime minister of India?\")\n"
     ]
    },
    {
     "name": "stdout",
     "output_type": "stream",
     "text": [
      "\n",
      "\n",
      "\u001b[1m> Entering new AgentExecutor chain...\u001b[0m\n",
      "\u001b[32;1m\u001b[1;3mThought: I need to find out who the current prime minister of India is. I can use Wikipedia to find this information.\n",
      "Action:\n",
      "```json\n",
      "{\n",
      "  \"action\": \"wikipedia\",\n",
      "  \"action_input\": \"Prime Minister of India\"\n",
      "}\n",
      "```\u001b[0m\n",
      "Observation: \u001b[33;1m\u001b[1;3mPage: Prime Minister of India\n",
      "Summary: The prime minister of India (ISO: Bhārata kē Pradhānamantrī) is the head of government of the Republic of India. Executive authority is vested in the prime minister and his chosen Council of Ministers, despite the president of India being the nominal head of the executive.  The prime minister has to be a member of one of the houses of bicameral Parliament of India, alongside heading the respective house. The prime minister and the cabinet are at all times responsible to the Lok Sabha.\n",
      "The sitting prime minister ranks third in the Order of Precedence of India and is appointed by the president of India; however, the prime minister has to enjoy the confidence of the majority of Lok Sabha members, who are directly elected every five years, lest the prime minister shall resign. The prime minister can be a member of the Lok Sabha or the Rajya Sabha, the upper house of the parliament. The prime minister controls the selection and dismissal of members of the Union Council of Ministers and allocation of posts to members within the government.\n",
      "The longest-serving prime minister was the first prime minister, Jawaharlal Nehru, whose tenure lasted 16 years and 286 days. His premiership was followed by Lal Bahadur Shastri's short tenure and Indira Gandhi's 11- and 4-year-long tenures, with both politicians belonging to the Indian National Congress. After Indira Gandhi's assassination, her son Rajiv Gandhi took charge until 1989, when a decade with five unstable governments began. This was followed by the full terms of P. V. Narasimha Rao, Atal Bihari Vajpayee, Manmohan Singh, and Narendra Modi, who is the current prime minister of India, serving since 26 May 2014. He is the first non-Congress leader to win three consecutive general elections and secure a third successive term (2014, 2019, 2024). The first prime minister to do so was Jawaharlal Nehru, who won the general elections of 1952, 1957, and 1962.\n",
      "\n",
      "\n",
      "\n",
      "Page: List of prime ministers of India\n",
      "Summary: The prime minister of India is the chief executive of the Government of India and chair of the Union Council of Ministers. Although the president of India is the constitutional, nominal, and ceremonial head of state, in practice and ordinarily, the executive authority is vested in the prime minister and their chosen Council of Ministers. The prime minister is the leader elected by the party with a majority in the lower house of the Indian parliament, the Lok Sabha, which is the main legislative body in the Republic of India. The prime minister and their cabinet are at all times responsible to the Lok Sabha. The prime minister can be a member of the Lok Sabha or of the Rajya Sabha, the upper house of the parliament. The prime minister ranks third in the order of precedence.\n",
      "\n",
      "The prime minister is appointed by the president of India; however, the prime minister has to enjoy the confidence of the majority of Lok Sabha members, who are directly elected every five years, unless a prime minister resigns. The prime minister is the presiding member of the Council of Ministers of the Union government. The prime minister unilaterally controls the selection and dismissal of members of the council; and allocation of posts to members within the government. This council, which is collectively responsible to the Lok Sabha as per Article 75(3), assists the president regarding the operations under the latter's powers; however, by the virtue of Article 74 of the Constitution, such 'aid and advice' tendered by the council is binding.\n",
      "Since 1947, India has had 14 prime ministers. Jawaharlal Nehru was India's first prime minister, serving as prime minister of the Dominion of India from 15 August 1947 until 26 January 1950, and thereafter of the Republic of India until his death in May 1964. (India conducted its first post-independence general elections in 1952). Earlier, Nehru had served as prime minister of the Interim Government of India during the British Raj from 2 Sep\u001b[0m\n",
      "\u001b[32;1m\u001b[1;3mI now know the final answer\n",
      "Final Answer: Narendra Modi is the current prime minister of India.\u001b[0m\n",
      "\n",
      "\u001b[1m> Finished chain.\u001b[0m\n"
     ]
    },
    {
     "data": {
      "text/plain": [
       "{'input': 'Who is prime minister of India?',\n",
       " 'output': 'Narendra Modi is the current prime minister of India.'}"
      ]
     },
     "execution_count": 29,
     "metadata": {},
     "output_type": "execute_result"
    }
   ],
   "source": [
    "agent(\"Who is prime minister of India?\")"
   ]
  },
  {
   "cell_type": "code",
   "execution_count": 69,
   "id": "9e246ca3-8f47-4012-8677-9887b8ca66f5",
   "metadata": {
    "scrolled": true
   },
   "outputs": [
    {
     "name": "stdout",
     "output_type": "stream",
     "text": [
      "\n",
      "\n",
      "\u001b[1m> Entering new AgentExecutor chain...\u001b[0m\n",
      "\u001b[32;1m\u001b[1;3mThought: I need to calculate 24 multiplied by 98.\n",
      "Action:\n",
      "```json\n",
      "{\n",
      "  \"action\": \"Calculator\",\n",
      "  \"action_input\": \"24*98\"\n",
      "}\n",
      "```\u001b[0m\n",
      "Observation: \u001b[36;1m\u001b[1;3mAnswer: 2352\u001b[0m\n",
      "\u001b[32;1m\u001b[1;3mI now know the final answer.\n",
      "Final Answer: 2352\u001b[0m\n",
      "\n",
      "\u001b[1m> Finished chain.\u001b[0m\n"
     ]
    },
    {
     "data": {
      "text/plain": [
       "{'input': 'what is 24 times 98?', 'output': '2352'}"
      ]
     },
     "execution_count": 69,
     "metadata": {},
     "output_type": "execute_result"
    }
   ],
   "source": [
    "agent(\"what is 24 times 98?\")"
   ]
  },
  {
   "cell_type": "markdown",
   "id": "eda82985-8965-4032-a0c0-501b7a1a5599",
   "metadata": {},
   "source": [
    "# Creating Own Tools!"
   ]
  },
  {
   "cell_type": "markdown",
   "id": "a3ee3bbc-b9ca-4e45-8811-44054e347736",
   "metadata": {},
   "source": [
    "# Tool 1\n",
    "1. Search drive for given file name\n",
    "2. Download PDF\n",
    "3. Run Pymudf for text extraction\n",
    "4. return text"
   ]
  },
  {
   "cell_type": "code",
   "execution_count": 32,
   "id": "252ddc4b-4685-4a0f-86bd-94600d8daa4f",
   "metadata": {},
   "outputs": [],
   "source": [
    "from langchain.agents import Tool"
   ]
  },
  {
   "cell_type": "code",
   "execution_count": 33,
   "id": "24f04f31-06ba-4afd-ad15-671e737b8433",
   "metadata": {},
   "outputs": [],
   "source": [
    "#Defining TOOL!\n",
    "def get_file(file_name_to_find):\n",
    "    file_id = search_drive_file(drive_service, file_name_to_find)\n",
    "    #get file and extract text\n",
    "    file_content = download_drive_file_content(drive_service, file_id)\n",
    "    return file_content"
   ]
  },
  {
   "cell_type": "code",
   "execution_count": 34,
   "id": "b545107f-b147-4762-8a24-febf9627c948",
   "metadata": {},
   "outputs": [],
   "source": [
    "get_file_tool = Tool(\n",
    "    name=\"get_file\",\n",
    "    func=get_file,\n",
    "    description=\"\"\"Useful for retrieving a specific document from Google Drive when the user provides an exact filename. \n",
    "            This tool ensures precise file access without searching for similar names.\n",
    "            For example user can ask:\n",
    "            can you fetch Abhinav Rohilla Resume.pdf from my google drive?\"\"\"\n",
    ")"
   ]
  },
  {
   "cell_type": "markdown",
   "id": "77406ebb-a8c2-403e-95f3-2da3e9f01192",
   "metadata": {},
   "source": [
    "# Tool 2\n",
    "1. For given search term do fuzzy matching using Difflib.SequenceMatcher\n",
    "2. return list of file names"
   ]
  },
  {
   "cell_type": "code",
   "execution_count": 35,
   "id": "97eca8c4-22dd-4acf-952e-71d896fe506d",
   "metadata": {},
   "outputs": [],
   "source": [
    "def fuzzy_match_drive_pdfs(search_term, cutoff=0.4):\n",
    "    try:\n",
    "        # Fetch list of PDF files from Drive\n",
    "        results = drive_service.files().list(\n",
    "            q=\"mimeType='application/pdf'\",  # Filter for PDFs\n",
    "            fields=\"files(id, name)\"\n",
    "        ).execute()\n",
    "        files = results.get(\"files\", [])\n",
    "        if not files:\n",
    "            return \"No PDFs found in Google Drive.\"\n",
    "        # Extract filenames\n",
    "        file_names = [file[\"name\"] for file in files]\n",
    "        # Perform fuzzy matching\n",
    "        matches = [\n",
    "            (name, difflib.SequenceMatcher(None, search_term, name).ratio()) \n",
    "            for name in file_names\n",
    "        ]\n",
    "        # Filter matches by cutoff score\n",
    "        filtered_matches = [name for name, score in matches if score >= cutoff or search_term.lower() in name.lower()]\n",
    "        return filtered_matches if filtered_matches else \"No relevant matches found.\"\n",
    "    except HttpError as error:\n",
    "        return f\"An error occurred: {error}\"\n",
    "\n",
    "fuzzy_match_tool = Tool(\n",
    "    name=\"fuzzy_match_drive_pdfs\",\n",
    "    func=fuzzy_match_drive_pdfs,\n",
    "    description=\"\"\"Useful for finding similar files in Google Drive based on a search term.\"\"\")"
   ]
  },
  {
   "cell_type": "markdown",
   "id": "bd238824-7fe6-4868-a6ce-209f5e435c44",
   "metadata": {},
   "source": [
    "# Tool 3\n",
    "1. For given search term, find last 10 emails snippets and summarize"
   ]
  },
  {
   "cell_type": "code",
   "execution_count": 40,
   "id": "9d97e502-88da-485c-a52d-b486a520ec9f",
   "metadata": {},
   "outputs": [],
   "source": [
    "#Fetch files from gmail\n",
    "def list_messages_by_keyword(keyword):\n",
    "    query = f\"{keyword}\"  # You can enhance this with filters like 'subject:invoice' or 'from:abc@example.com'\n",
    "    results = gmail_service.users().messages().list(userId='me', q=query, maxResults=10).execute()\n",
    "    messages = results.get('messages', [])\n",
    "\n",
    "    if not messages:\n",
    "        return \"No messages found with that keyword.\"\n",
    "\n",
    "    message_snippets = \"\"\n",
    "    for i, msg in enumerate(messages, start=1):\n",
    "        msg_detail = gmail_service.users().messages().get(userId='me', id=msg['id']).execute()\n",
    "        snippet = msg_detail.get('snippet', '[No snippet available]')\n",
    "        message_snippets += f\"{i}. Snippet {i}: {snippet}\\n\"\n",
    "\n",
    "    return message_snippets.strip()"
   ]
  },
  {
   "cell_type": "code",
   "execution_count": 41,
   "id": "da379934-05f7-4c2a-8323-ebd6d9c727c7",
   "metadata": {},
   "outputs": [],
   "source": [
    "email_tool = Tool(\n",
    "    name=\"list_messages_by_keyword\",\n",
    "    func=list_messages_by_keyword,\n",
    "    description=\"\"\"Useful return Emails snippets for given search term. It return 10 latest emails snippet from given user search term\"\"\")"
   ]
  },
  {
   "cell_type": "code",
   "execution_count": 42,
   "id": "81a57076-c699-4051-a45d-bb3eb3d1cab2",
   "metadata": {},
   "outputs": [],
   "source": [
    "custom_tools = [get_file_tool,fuzzy_match_tool,email_tool]"
   ]
  },
  {
   "cell_type": "markdown",
   "id": "dc17ea12-8bf1-486a-b5fb-f168cb2fc5e2",
   "metadata": {},
   "source": [
    "# Initialize Agent"
   ]
  },
  {
   "cell_type": "code",
   "execution_count": 49,
   "id": "95025e4f-c926-493d-9f57-e8371f1d302f",
   "metadata": {},
   "outputs": [
    {
     "name": "stderr",
     "output_type": "stream",
     "text": [
      "C:\\Users\\Abhinav\\AppData\\Local\\Temp\\ipykernel_2532\\4146569738.py:3: LangChainDeprecationWarning: Please see the migration guide at: https://python.langchain.com/docs/versions/migrating_memory/\n",
      "  memory = ConversationBufferMemory(memory_key=\"chat_history\", return_messages=True)\n"
     ]
    }
   ],
   "source": [
    "from langchain.memory import ConversationBufferMemory\n",
    "#Create memory\n",
    "memory = ConversationBufferMemory(memory_key=\"chat_history\", return_messages=True)\n"
   ]
  },
  {
   "cell_type": "markdown",
   "id": "8e8e6457-1ae3-43cf-b6de-6cd9323b0192",
   "metadata": {},
   "source": [
    "# LangChain: Memory\n",
    "\n",
    "LangChain, memory refers to the agent’s ability to retain information across interactions. This allows the agent to have contextual awareness, enabling more coherent, personalized, and intelligent conversations or task execution.\n",
    "\n",
    "\n",
    "## Outline\n",
    "* ConversationBufferMemory: Simple memory storage, store entire conversation\n",
    "* ConversationBufferWindowMemory: How many dialouges to remembers between user and bot(1 dialouge is query and response)\n",
    "* ConversationTokenBufferMemory: Retain memory untill token limit is reached, takes latest tokens\n",
    "* ConversationSummaryMemory: If token limit reaches, summarize rest of memory, then add in context"
   ]
  },
  {
   "cell_type": "code",
   "execution_count": 57,
   "id": "be240c12-58a2-4501-a1e7-d89df3b7f310",
   "metadata": {},
   "outputs": [],
   "source": [
    "#Initialize Agent\n",
    "agent = initialize_agent(\n",
    "    custom_tools, \n",
    "    llm, \n",
    "    #ReACT, Reasoning and Act\n",
    "    agent=AgentType.CHAT_ZERO_SHOT_REACT_DESCRIPTION,\n",
    "    #If output of LLM is not parse correctly for other chain\n",
    "    #It sends backt to origin LLM to rephrase\n",
    "    handle_parsing_errors=True,\n",
    "    #See in details whats happening in backend\n",
    "    verbose = True,\n",
    "    memory=memory\n",
    "# callback_manager=CallbackManager([StdOutCallbackHandler(), tracer])\n",
    ")"
   ]
  },
  {
   "cell_type": "code",
   "execution_count": 58,
   "id": "82bed261-8db0-49db-a7e5-e4b0cac7b818",
   "metadata": {},
   "outputs": [],
   "source": [
    "def drive_agent(query,history=[]):\n",
    "    response = agent(query)\n",
    "    return response['output']"
   ]
  },
  {
   "cell_type": "code",
   "execution_count": 59,
   "id": "207ccdb1-f48f-4d2a-8ebf-68fed2c586df",
   "metadata": {},
   "outputs": [
    {
     "data": {
      "text/plain": [
       "'\\n2. List all aviation topics from my drive\\n3. any research topics you can find in my drive?\\n'"
      ]
     },
     "execution_count": 59,
     "metadata": {},
     "output_type": "execute_result"
    }
   ],
   "source": [
    "\"\"\"\n",
    "1. List all aviation topics from my drive\n",
    "2. any research topics you can find in my drive?\n",
    "3. Any emails from Nvidia?\n",
    "\"\"\""
   ]
  },
  {
   "cell_type": "code",
   "execution_count": 62,
   "id": "c42fe4ca-7b00-440f-9220-4212349cea1c",
   "metadata": {},
   "outputs": [
    {
     "name": "stdout",
     "output_type": "stream",
     "text": [
      "* Running on local URL:  http://127.0.0.1:7865\n",
      "\n",
      "To create a public link, set `share=True` in `launch()`.\n"
     ]
    },
    {
     "data": {
      "text/html": [
       "<div><iframe src=\"http://127.0.0.1:7865/\" width=\"100%\" height=\"500\" allow=\"autoplay; camera; microphone; clipboard-read; clipboard-write;\" frameborder=\"0\" allowfullscreen></iframe></div>"
      ],
      "text/plain": [
       "<IPython.core.display.HTML object>"
      ]
     },
     "metadata": {},
     "output_type": "display_data"
    },
    {
     "data": {
      "text/plain": []
     },
     "execution_count": 62,
     "metadata": {},
     "output_type": "execute_result"
    },
    {
     "name": "stdout",
     "output_type": "stream",
     "text": [
      "\n",
      "\n",
      "\u001b[1m> Entering new AgentExecutor chain...\u001b[0m\n",
      "\u001b[32;1m\u001b[1;3mThought: I need to find files related to aviation in the user's Google Drive. I should use the fuzzy_match_drive_pdfs tool to search for files with \"aviation\" in their names or content.\n",
      "Action:\n",
      "```json\n",
      "{\n",
      "  \"action\": \"fuzzy_match_drive_pdfs\",\n",
      "  \"action_input\": \"aviation\"\n",
      "}\n",
      "```\u001b[0m\n",
      "Observation: \u001b[33;1m\u001b[1;3m['Sustainable Contrails(Aviation).pdf', 'Supply Chain Control in MRO(Aviation)', 'AI Augmentation in Aviation.pdf']\u001b[0m\n",
      "\u001b[32;1m\u001b[1;3mI have found three files related to aviation in the user's Google Drive: Sustainable Contrails(Aviation).pdf, Supply Chain Control in MRO(Aviation), and AI Augmentation in Aviation.pdf.\n",
      "Final Answer: Sustainable Contrails(Aviation).pdf, Supply Chain Control in MRO(Aviation), AI Augmentation in Aviation.pdf\u001b[0m\n",
      "\n",
      "\u001b[1m> Finished chain.\u001b[0m\n"
     ]
    }
   ],
   "source": [
    "gr.ChatInterface(fn=drive_agent, type=\"messages\").launch()\n",
    "# with gr.Blocks() as demo:\n",
    "#     # chatbot.render()\n",
    "#     # clear_button = gr.Button(\"Clear Memory\")  # Add flush button\n",
    "#     # clear_button.click(flush_memory, inputs=[], outputs=[chatbot])\n",
    "# demo.launch()\n"
   ]
  },
  {
   "cell_type": "code",
   "execution_count": null,
   "id": "eeddce87-b0cb-48b4-ae16-41c1daa7d1e2",
   "metadata": {},
   "outputs": [],
   "source": []
  }
 ],
 "metadata": {
  "kernelspec": {
   "display_name": "Python 3 (ipykernel)",
   "language": "python",
   "name": "python3"
  },
  "language_info": {
   "codemirror_mode": {
    "name": "ipython",
    "version": 3
   },
   "file_extension": ".py",
   "mimetype": "text/x-python",
   "name": "python",
   "nbconvert_exporter": "python",
   "pygments_lexer": "ipython3",
   "version": "3.11.11"
  }
 },
 "nbformat": 4,
 "nbformat_minor": 5
}
