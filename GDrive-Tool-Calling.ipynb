{
 "cells": [
  {
   "cell_type": "code",
   "execution_count": 1,
   "id": "141fe5c5-82a9-4296-8eb7-b850698b50dd",
   "metadata": {},
   "outputs": [],
   "source": [
    "import os\n",
    "from google.auth.transport.requests import Request\n",
    "from google.oauth2.credentials import Credentials\n",
    "from google_auth_oauthlib.flow import InstalledAppFlow\n",
    "from googleapiclient.discovery import build\n",
    "from googleapiclient.errors import HttpError\n",
    "from googleapiclient.http import MediaIoBaseDownload\n",
    "import io\n",
    "\n",
    "\n",
    "import difflib\n",
    "from googleapiclient.errors import HttpError"
   ]
  },
  {
   "cell_type": "code",
   "execution_count": 2,
   "id": "0d3ac09c-2ef6-482b-b1fe-83be18878c97",
   "metadata": {},
   "outputs": [],
   "source": [
    "SCOPES = ['https://www.googleapis.com/auth/drive.readonly']"
   ]
  },
  {
   "cell_type": "markdown",
   "id": "db5ccea3-cd6d-4891-917a-2dc7bb23eae6",
   "metadata": {},
   "source": [
    "# Setting up Drive Service"
   ]
  },
  {
   "cell_type": "code",
   "execution_count": 6,
   "id": "c18bcbfe-86d0-467a-959d-9547add8518e",
   "metadata": {},
   "outputs": [],
   "source": [
    "client_secret = r\"\""
   ]
  },
  {
   "cell_type": "code",
   "execution_count": 7,
   "id": "3ba4b1e9-b85b-4b1b-ad36-885864044343",
   "metadata": {},
   "outputs": [],
   "source": [
    "def get_drive_service():\n",
    "    \"\"\"Shows basic usage of the Drive v3 API.\n",
    "    Prints the names and IDs of the first 10 files the user has access to.\n",
    "    \"\"\"\n",
    "    creds = None\n",
    "    # The file token.json stores the user's access and refresh tokens, and is\n",
    "    # created automatically when the authorization flow completes for the first\n",
    "    # time.\n",
    "    if os.path.exists('token.json'):\n",
    "        creds = Credentials.from_authorized_user_file('token.json', SCOPES)\n",
    "    # If there are no (valid) credentials available, let the user log in.\n",
    "    if not creds or not creds.valid:\n",
    "        if creds and creds.expired and creds.refresh_token:\n",
    "            creds.refresh(Request())\n",
    "        else:\n",
    "            flow = InstalledAppFlow.from_client_secrets_file(\n",
    "                client_secret, SCOPES)\n",
    "            creds = flow.run_local_server(port=0)\n",
    "        # Save the credentials for the next run\n",
    "        with open('token.json', 'w') as token:\n",
    "            token.write(creds.to_json())\n",
    "\n",
    "    return build('drive', 'v3', credentials=creds)"
   ]
  },
  {
   "cell_type": "code",
   "execution_count": 8,
   "id": "005fb68a-bb57-4a0b-a5cf-f50b1ef3bc9c",
   "metadata": {},
   "outputs": [],
   "source": [
    "drive_service = get_drive_service()"
   ]
  },
  {
   "cell_type": "code",
   "execution_count": 9,
   "id": "862a53ee-ea33-4bc1-83a3-a14fd5d273aa",
   "metadata": {},
   "outputs": [],
   "source": [
    "def search_drive_file(service, file_name):\n",
    "    try:\n",
    "        results = service.files().list(\n",
    "            q=f\"name='{file_name}' and trashed=false\",\n",
    "            spaces='drive',\n",
    "            fields='files(id, name)').execute()\n",
    "        items = results.get('files', [])\n",
    "        if not items:\n",
    "            print(f\"No file found with name: {file_name}\")\n",
    "            return None\n",
    "        else:\n",
    "            print(f\"Found file: {items[0]['name']} (ID: {items[0]['id']})\")            \n",
    "            return items[0]['id']\n",
    "    except HttpError as error:\n",
    "        print(f'An error occurred: {error}')\n",
    "        return None"
   ]
  },
  {
   "cell_type": "code",
   "execution_count": 10,
   "id": "9e2b2b4a-084e-458c-a38f-d4a8d014384c",
   "metadata": {},
   "outputs": [],
   "source": [
    "def download_drive_file_content(service, file_id, mime_type='text/plain'):\n",
    "    try:\n",
    "        # Use export_media for Google Workspace documents to get plain text\n",
    "        if mime_type.startswith('application/vnd.google-apps.'):\n",
    "            request = service.files().export_media(fileId=file_id, mimeType='text/plain')\n",
    "        else:\n",
    "            # For other file types, use get_media (will download the raw file)\n",
    "            request = service.files().get_media(fileId=file_id)\n",
    "    \n",
    "        fh = io.BytesIO()\n",
    "        downloader = MediaIoBaseDownload(fh, request)\n",
    "        done = False\n",
    "        while done is False:\n",
    "            status, done = downloader.next_chunk()\n",
    "            print(f\"Download {int(status.progress() * 100)}%.\")\n",
    "        content = fh.getvalue().decode('utf-8')\n",
    "        return content\n",
    "    except HttpError as error:\n",
    "         print(f'An error occurred during download: {error}')\n",
    "         return None\n",
    "    except Exception as e:\n",
    "         print(f\"An unexpected error occurred: {e}\")\n",
    "         return None"
   ]
  },
  {
   "cell_type": "code",
   "execution_count": 11,
   "id": "74a37a1b-1124-4882-a0d7-1c444e139e3f",
   "metadata": {},
   "outputs": [],
   "source": [
    "import io\n",
    "import fitz  # PyMuPDF\n",
    "from googleapiclient.http import MediaIoBaseDownload\n",
    "from googleapiclient.errors import HttpError\n",
    "\n",
    "def download_drive_file_content(service, file_id, mime_type='application/pdf'):\n",
    "    try:\n",
    "        # Request file download\n",
    "        request = service.files().get_media(fileId=file_id)\n",
    "        fh = io.BytesIO()\n",
    "        downloader = MediaIoBaseDownload(fh, request)\n",
    "        done = False\n",
    "        while not done:\n",
    "            status, done = downloader.next_chunk()\n",
    "            print(f\"Download {int(status.progress() * 100)}%.\")\n",
    "\n",
    "        # Load PDF content\n",
    "        fh.seek(0)  # Reset file pointer\n",
    "        pdf_document = fitz.open(\"pdf\", fh.read())  # Open as PDF\n",
    "        content = \"\\n\".join([page.get_text(\"text\") for page in pdf_document])  # Extract text\n",
    "        \n",
    "        return content  # Return extracted text\n",
    "    except HttpError as error:\n",
    "        print(f\"An error occurred during download: {error}\")\n",
    "        return None\n",
    "    except Exception as e:\n",
    "        print(f\"An unexpected error occurred: {e}\")\n",
    "        return None"
   ]
  },
  {
   "cell_type": "code",
   "execution_count": 12,
   "id": "1aace21b-e539-47bf-9611-c5b610f2d049",
   "metadata": {},
   "outputs": [],
   "source": [
    "file_name_to_find = \"Abhinav Rohilla Resume.pdf\""
   ]
  },
  {
   "cell_type": "code",
   "execution_count": 13,
   "id": "8061facd-fdc4-4536-9caf-6aa64fd5e748",
   "metadata": {},
   "outputs": [
    {
     "name": "stdout",
     "output_type": "stream",
     "text": [
      "Found file: Abhinav Rohilla Resume.pdf (ID: 1vNVEllr6J6IyX3su_mZQpWyAC5Uju3Kz)\n",
      "Download 100%.\n"
     ]
    },
    {
     "data": {
      "text/plain": [
       "' \\nAbhinav Rohilla \\nData Scientist with 6 years of experience in leveraging machine learning, LLMs and \\nstatistics to drive impactful business solutions. Proven ability to understand client \\nrequiremen'"
      ]
     },
     "execution_count": 13,
     "metadata": {},
     "output_type": "execute_result"
    }
   ],
   "source": [
    "#Drive Service\n",
    "drive_service = get_drive_service()\n",
    "#Get File Id\n",
    "file_id = search_drive_file(drive_service, file_name_to_find)\n",
    "#get file and extract text\n",
    "file_content = download_drive_file_content(drive_service, file_id)\n",
    "file_content[:200]"
   ]
  },
  {
   "cell_type": "code",
   "execution_count": null,
   "id": "0a523549-8448-4493-b783-535ff4c51d51",
   "metadata": {},
   "outputs": [],
   "source": []
  },
  {
   "cell_type": "markdown",
   "id": "e4086b83-f302-49de-87df-f2c35a0960b2",
   "metadata": {},
   "source": [
    "# Creating Agent"
   ]
  },
  {
   "cell_type": "code",
   "execution_count": 14,
   "id": "481c258c-12f7-4448-b0e7-1000ce487a40",
   "metadata": {},
   "outputs": [],
   "source": [
    "import os\n",
    "import json\n",
    "from dotenv import load_dotenv\n",
    "from openai import OpenAI\n",
    "import gradio as gr\n",
    "\n",
    "import ollama\n",
    "from ollama import ChatResponse\n",
    "from IPython.display import display, Markdown, clear_output"
   ]
  },
  {
   "cell_type": "code",
   "execution_count": 15,
   "id": "74d1ceed-777c-4e52-ba5d-77c76a358445",
   "metadata": {},
   "outputs": [],
   "source": [
    "system_message = \"You are an AI-powered document retrieval and summarization assistant.\"\n",
    "system_message += \"Your primary function is to fetch PDFs from Google Drive, extract relevant text, and generate concise, informative summaries.\""
   ]
  },
  {
   "cell_type": "markdown",
   "id": "a3ee3bbc-b9ca-4e45-8811-44054e347736",
   "metadata": {},
   "source": [
    "# Tool 1"
   ]
  },
  {
   "cell_type": "code",
   "execution_count": 16,
   "id": "1f16d766-76d6-4b48-b95b-50b588dc1349",
   "metadata": {},
   "outputs": [],
   "source": [
    "#Defining TOOL!\n",
    "def get_file(file_name_to_find):\n",
    "    file_id = search_drive_file(drive_service, file_name_to_find)\n",
    "    #get file and extract text\n",
    "    file_content = download_drive_file_content(drive_service, file_id)\n",
    "    return file_content\n",
    "#Defining tool trigger\n",
    "file_function = {\n",
    "            \"name\": \"get_file\",\n",
    "            \"description\": \"\"\"Useful for retrieving a specific document from Google Drive when the user provides an exact filename. \n",
    "            This tool ensures precise file access without searching for similar names.\n",
    "            For example user can ask:\n",
    "            can you fetch Abhinav Rohilla Resume.pdf from my google drive?\"\"\",\n",
    "            \"parameters\": {\n",
    "                \"type\": \"object\",\n",
    "                \"properties\": {\n",
    "                    \"file_name_to_find\": {\n",
    "                        \"type\": \"string\",\n",
    "                        \"description\": \"User input file name\"\n",
    "                    }\n",
    "                },\n",
    "                \"required\": [\"file_name_to_find\"],\n",
    "                \"additionalProperties\": False\n",
    "            }\n",
    "        }"
   ]
  },
  {
   "cell_type": "markdown",
   "id": "6d72c4ac-26cb-4ded-b3cd-b6bb1aaf9be2",
   "metadata": {},
   "source": [
    "# Tool 2"
   ]
  },
  {
   "cell_type": "code",
   "execution_count": 17,
   "id": "255fc92a-bca1-4509-a24e-41b1397a70f5",
   "metadata": {},
   "outputs": [],
   "source": [
    "def fuzzy_match_drive_pdfs(search_term, cutoff=0.4):\n",
    "    try:\n",
    "        # Fetch list of PDF files from Drive\n",
    "        results = drive_service.files().list(\n",
    "            q=\"mimeType='application/pdf'\",  # Filter for PDFs\n",
    "            fields=\"files(id, name)\"\n",
    "        ).execute()\n",
    "        files = results.get(\"files\", [])\n",
    "        if not files:\n",
    "            return \"No PDFs found in Google Drive.\"\n",
    "        # Extract filenames\n",
    "        file_names = [file[\"name\"] for file in files]\n",
    "        # Perform fuzzy matching\n",
    "        matches = [\n",
    "            (name, difflib.SequenceMatcher(None, search_term, name).ratio()) \n",
    "            for name in file_names\n",
    "        ]\n",
    "        # Filter matches by cutoff score\n",
    "        filtered_matches = [name for name, score in matches if score >= cutoff or search_term.lower() in name.lower()]\n",
    "        return filtered_matches if filtered_matches else \"No relevant matches found.\"\n",
    "    except HttpError as error:\n",
    "        return f\"An error occurred: {error}\"\n",
    "\n",
    "fuzzy_match_function = {\n",
    "            \"name\": \"fuzzy_match_drive_pdfs\",\n",
    "            \"description\": \"Useful for finding similar files in Google Drive based on a search term.\",\n",
    "            \"parameters\": {\n",
    "                \"type\": \"object\",\n",
    "                \"properties\": {\n",
    "                    \"search_term\": {\n",
    "                        \"type\": \"string\",\n",
    "                        \"description\": \"User input search term for fuzzy matching.\"\n",
    "                    }\n",
    "                },\n",
    "                \"required\": [\"search_term\"],\n",
    "                \"additionalProperties\": False\n",
    "            }\n",
    "        }"
   ]
  },
  {
   "cell_type": "code",
   "execution_count": 18,
   "id": "fa3a7f7b-08f9-4f86-b00d-2fe422d17403",
   "metadata": {},
   "outputs": [],
   "source": [
    "tools = [{\"type\": \"function\", \"function\": file_function},{\"type\": \"function\", \"function\": fuzzy_match_function}]"
   ]
  },
  {
   "cell_type": "code",
   "execution_count": 19,
   "id": "fc71014f-25a4-4d9d-b41b-ba45e5fe2b96",
   "metadata": {},
   "outputs": [],
   "source": [
    "def chat(message, history):\n",
    "    messages = [{\"role\": \"system\", \"content\": system_message}] + history + [{\"role\": \"user\", \"content\": message}]\n",
    "    # response = openai.chat.completions.create(model=MODEL, messages=messages, tools=tools)\n",
    "    response = ollama.chat(model='llama3.2', messages=messages,tools=tools) \n",
    "    print(response)\n",
    "    if response.message.tool_calls:\n",
    "        message = response.message\n",
    "        response, file_content = handle_tool_call(message)\n",
    "        messages.append(message)\n",
    "        messages.append(response)\n",
    "        # response = openai.chat.completions.create(model=MODEL, messages=messages)\n",
    "        print('FINAL Prompt',messages)\n",
    "        response = ollama.chat(model='llama3.2', messages=messages) \n",
    "    # logging.debug(\"Response: %s\", response)\n",
    "    return response.message.content"
   ]
  },
  {
   "cell_type": "code",
   "execution_count": 20,
   "id": "502b44de-d9c5-4ec9-bc69-968ae221750d",
   "metadata": {},
   "outputs": [],
   "source": [
    "# Function to flush memory\n",
    "  # Clears chat history and returns empty response\n",
    "# Gradio UI with chat and clear button"
   ]
  },
  {
   "cell_type": "code",
   "execution_count": 21,
   "id": "aac7283b-8f45-48d9-bd6e-89ffdd842c69",
   "metadata": {},
   "outputs": [],
   "source": [
    "def flush_memory():\n",
    "    return []"
   ]
  },
  {
   "cell_type": "code",
   "execution_count": 22,
   "id": "423f84bd-f036-4f53-87ce-50c87b1ac4a5",
   "metadata": {},
   "outputs": [],
   "source": [
    "\n",
    "TOOLS = {\n",
    "    \"get_file\": get_file,  # Function to fetch file content\n",
    "    \"fuzzy_match_drive_pdfs\": fuzzy_match_drive_pdfs  # Function to fuzzy match PDF names\n",
    "}\n",
    "\n",
    "def handle_tool_call(message):\n",
    "    tool_call = message.tool_calls[0]\n",
    "    tool_name = tool_call.function.name\n",
    "    arguments = tool_call.function.arguments\n",
    "    # content = get_file(file_name)\n",
    "    content = TOOLS[tool_name](**arguments)\n",
    "    response = {\n",
    "        \"role\": \"tool\",\n",
    "        \"content\": json.dumps({\"file_content\": content}),\n",
    "        'name':tool_call.function.name\n",
    "    }\n",
    "    return response, content"
   ]
  },
  {
   "cell_type": "code",
   "execution_count": 31,
   "id": "207ccdb1-f48f-4d2a-8ebf-68fed2c586df",
   "metadata": {},
   "outputs": [
    {
     "data": {
      "text/plain": [
       "'\\n1. can you find all PDFs from my drive on topic Aviation\\n2. List all resume files from my drive\\n\\n'"
      ]
     },
     "execution_count": 31,
     "metadata": {},
     "output_type": "execute_result"
    }
   ],
   "source": [
    "\"\"\"\n",
    "2. List all aviation topics from my drive\n",
    "3. any research topics you can find in my drive?\n",
    "\"\"\""
   ]
  },
  {
   "cell_type": "code",
   "execution_count": 23,
   "id": "c42fe4ca-7b00-440f-9220-4212349cea1c",
   "metadata": {},
   "outputs": [
    {
     "name": "stdout",
     "output_type": "stream",
     "text": [
      "* Running on local URL:  http://127.0.0.1:7860\n",
      "\n",
      "To create a public link, set `share=True` in `launch()`.\n"
     ]
    },
    {
     "data": {
      "text/html": [
       "<div><iframe src=\"http://127.0.0.1:7860/\" width=\"100%\" height=\"500\" allow=\"autoplay; camera; microphone; clipboard-read; clipboard-write;\" frameborder=\"0\" allowfullscreen></iframe></div>"
      ],
      "text/plain": [
       "<IPython.core.display.HTML object>"
      ]
     },
     "metadata": {},
     "output_type": "display_data"
    },
    {
     "data": {
      "text/plain": []
     },
     "execution_count": 23,
     "metadata": {},
     "output_type": "execute_result"
    },
    {
     "name": "stdout",
     "output_type": "stream",
     "text": [
      "model='llama3.2' created_at='2025-06-07T09:35:16.0860057Z' done=True done_reason='stop' total_duration=2658464000 load_duration=1619506800 prompt_eval_count=325 prompt_eval_duration=234000000 eval_count=23 eval_duration=270000000 message=Message(role='assistant', content='', thinking=None, images=None, tool_calls=[ToolCall(function=Function(name='fuzzy_match_drive_pdfs', arguments={'search_term': 'Aviation'}))])\n",
      "FINAL Prompt [{'role': 'system', 'content': 'You are an AI-powered document retrieval and summarization assistant.Your primary function is to fetch PDFs from Google Drive, extract relevant text, and generate concise, informative summaries.'}, {'role': 'user', 'content': 'can you find and list all PDFs on Aviation topic'}, Message(role='assistant', content='', thinking=None, images=None, tool_calls=[ToolCall(function=Function(name='fuzzy_match_drive_pdfs', arguments={'search_term': 'Aviation'}))]), {'role': 'tool', 'content': '{\"file_content\": [\"Sustainable Contrails(Aviation).pdf\", \"Supply Chain Control in MRO(Aviation)\", \"AI Augmentation in Aviation.pdf\"]}', 'name': 'fuzzy_match_drive_pdfs'}]\n"
     ]
    }
   ],
   "source": [
    "\n",
    "gr.ChatInterface(fn=chat, type=\"messages\").launch()\n",
    "# with gr.Blocks() as demo:\n",
    "#     # chatbot.render()\n",
    "#     # clear_button = gr.Button(\"Clear Memory\")  # Add flush button\n",
    "#     # clear_button.click(flush_memory, inputs=[], outputs=[chatbot])\n",
    "\n",
    "# demo.launch()\n"
   ]
  },
  {
   "cell_type": "code",
   "execution_count": null,
   "id": "6e62ffad-5a7b-45f5-9a1a-252574cd3e9d",
   "metadata": {},
   "outputs": [],
   "source": []
  },
  {
   "cell_type": "code",
   "execution_count": null,
   "id": "eeddce87-b0cb-48b4-ae16-41c1daa7d1e2",
   "metadata": {},
   "outputs": [],
   "source": []
  }
 ],
 "metadata": {
  "kernelspec": {
   "display_name": "Python 3 (ipykernel)",
   "language": "python",
   "name": "python3"
  },
  "language_info": {
   "codemirror_mode": {
    "name": "ipython",
    "version": 3
   },
   "file_extension": ".py",
   "mimetype": "text/x-python",
   "name": "python",
   "nbconvert_exporter": "python",
   "pygments_lexer": "ipython3",
   "version": "3.11.11"
  }
 },
 "nbformat": 4,
 "nbformat_minor": 5
}
